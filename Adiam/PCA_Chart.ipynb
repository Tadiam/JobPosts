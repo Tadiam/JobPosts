{
 "cells": [
  {
   "cell_type": "code",
   "execution_count": 17,
   "metadata": {},
   "outputs": [],
   "source": [
    "import pandas as pd\n",
    "import numpy as np\n",
    "import process_data as pda\n",
    "import matplotlib.pyplot as plt\n",
    "from sklearn.decomposition import PCA\n",
    "from itertools import cycle\n",
    "import glob"
   ]
  },
  {
   "cell_type": "code",
   "execution_count": 18,
   "metadata": {},
   "outputs": [
    {
     "data": {
      "text/html": [
       "<div>\n",
       "<style scoped>\n",
       "    .dataframe tbody tr th:only-of-type {\n",
       "        vertical-align: middle;\n",
       "    }\n",
       "\n",
       "    .dataframe tbody tr th {\n",
       "        vertical-align: top;\n",
       "    }\n",
       "\n",
       "    .dataframe thead th {\n",
       "        text-align: right;\n",
       "    }\n",
       "</style>\n",
       "<table border=\"1\" class=\"dataframe\">\n",
       "  <thead>\n",
       "    <tr style=\"text-align: right;\">\n",
       "      <th></th>\n",
       "      <th>Discription</th>\n",
       "      <th>Job</th>\n",
       "    </tr>\n",
       "  </thead>\n",
       "  <tbody>\n",
       "    <tr>\n",
       "      <th>0</th>\n",
       "      <td>\\n Utilizes appropriate pain management techn...</td>\n",
       "      <td>Healthcare Management</td>\n",
       "    </tr>\n",
       "    <tr>\n",
       "      <th>1</th>\n",
       "      <td>\\n Experience in geriatric nursing, medicatio...</td>\n",
       "      <td>Healthcare Management</td>\n",
       "    </tr>\n",
       "    <tr>\n",
       "      <th>2</th>\n",
       "      <td>\\n Screen members by priority for case manage...</td>\n",
       "      <td>Healthcare Management</td>\n",
       "    </tr>\n",
       "    <tr>\n",
       "      <th>3</th>\n",
       "      <td>Kindred Hospital Rancho* is a 55 bed long-term...</td>\n",
       "      <td>Healthcare Management</td>\n",
       "    </tr>\n",
       "    <tr>\n",
       "      <th>4</th>\n",
       "      <td>\\n Experience with high-growth startups, heal...</td>\n",
       "      <td>Healthcare Management</td>\n",
       "    </tr>\n",
       "    <tr>\n",
       "      <th>...</th>\n",
       "      <td>...</td>\n",
       "      <td>...</td>\n",
       "    </tr>\n",
       "    <tr>\n",
       "      <th>175</th>\n",
       "      <td>\\n As a Software Engineering Apprentice at HP...</td>\n",
       "      <td>Software Developer</td>\n",
       "    </tr>\n",
       "    <tr>\n",
       "      <th>176</th>\n",
       "      <td>Subversion and/or other software version contr...</td>\n",
       "      <td>Software Developer</td>\n",
       "    </tr>\n",
       "    <tr>\n",
       "      <th>177</th>\n",
       "      <td>\\n Working knowledge for processing LiDAR Poi...</td>\n",
       "      <td>Software Developer</td>\n",
       "    </tr>\n",
       "    <tr>\n",
       "      <th>178</th>\n",
       "      <td>We are seeking an experienced Lead Full Stack ...</td>\n",
       "      <td>Software Developer</td>\n",
       "    </tr>\n",
       "    <tr>\n",
       "      <th>179</th>\n",
       "      <td>\\n Understands and can apply object-oriented ...</td>\n",
       "      <td>Software Developer</td>\n",
       "    </tr>\n",
       "  </tbody>\n",
       "</table>\n",
       "<p>180 rows × 2 columns</p>\n",
       "</div>"
      ],
      "text/plain": [
       "                                           Discription                     Job\n",
       "0     \\n Utilizes appropriate pain management techn...  Healthcare Management \n",
       "1     \\n Experience in geriatric nursing, medicatio...  Healthcare Management \n",
       "2     \\n Screen members by priority for case manage...  Healthcare Management \n",
       "3    Kindred Hospital Rancho* is a 55 bed long-term...  Healthcare Management \n",
       "4     \\n Experience with high-growth startups, heal...  Healthcare Management \n",
       "..                                                 ...                     ...\n",
       "175   \\n As a Software Engineering Apprentice at HP...     Software Developer \n",
       "176  Subversion and/or other software version contr...     Software Developer \n",
       "177   \\n Working knowledge for processing LiDAR Poi...     Software Developer \n",
       "178  We are seeking an experienced Lead Full Stack ...     Software Developer \n",
       "179   \\n Understands and can apply object-oriented ...     Software Developer \n",
       "\n",
       "[180 rows x 2 columns]"
      ]
     },
     "execution_count": 18,
     "metadata": {},
     "output_type": "execute_result"
    }
   ],
   "source": [
    "path = '/Users/adiamtesfaselassie/Documents/Spring2023/ANLY521/JobPosts/data/'\n",
    "\n",
    "jobs = glob.glob(path + \"/*.csv\")\n",
    "df_list = (pd.read_csv(file) for file in jobs)\n",
    "jobs_df = pd.concat(df_list)\n",
    "jobs_df = jobs_df.dropna(subset=['Job'])\n",
    "jobs_df\n",
    "\n",
    "discription_df = pd.DataFrame(zip(jobs_df['Short Description'], jobs_df['Job']), columns=['Discription', 'Job'])\n",
    "discription_df.Job.unique()\n",
    "discription_df"
   ]
  },
  {
   "cell_type": "code",
   "execution_count": 19,
   "metadata": {},
   "outputs": [],
   "source": [
    "def create_clusters():\n",
    "    topic_df, model, vec, topic_list = pda.process_data()\n",
    "    pca = PCA(n_components=2)\n",
    "    X_train = topic_df.iloc[:, :-1]\n",
    "    y_train = topic_df.iloc[:, -1]\n",
    "    y_vals = y_train.unique()\n",
    "    model = pca.fit(X_train)\n",
    "    \n",
    "    return X_train, model.transform(X_train), y_train, y_vals, topic_list, model\n",
    "    "
   ]
  },
  {
   "cell_type": "code",
   "execution_count": 20,
   "metadata": {},
   "outputs": [],
   "source": [
    "def plot_PCA_2D(data, target, target_names, user_data):\n",
    "    colors = cycle(['black','g','b','c','m','y','orange','w','aqua','yellow'])\n",
    "    target_ids = range(len(target_names))\n",
    "    plt.figure(figsize=(10,10))\n",
    "    for i, c, label in zip(target_ids, colors, target_names):\n",
    "        plt.scatter(data[target == i, 0], data[target == i, 1],\n",
    "                   c=c, label=label, edgecolors='gray')\n",
    "    plt.scatter(user_data[0][0], user_data[0][1], s= 150, color = 'red')\n",
    "    plt.title('Clustering Job Archetypes')\n",
    "    plt.xlabel('Marketing Design Words')\n",
    "    plt.ylabel('Project Management Words')\n",
    "    plt.legend()\n",
    "    "
   ]
  },
  {
   "cell_type": "code",
   "execution_count": 21,
   "metadata": {},
   "outputs": [
    {
     "ename": "AttributeError",
     "evalue": "module 'process_data' has no attribute 'process_data'",
     "output_type": "error",
     "traceback": [
      "\u001b[0;31m---------------------------------------------------------------------------\u001b[0m",
      "\u001b[0;31mAttributeError\u001b[0m                            Traceback (most recent call last)",
      "Cell \u001b[0;32mIn[21], line 18\u001b[0m\n\u001b[1;32m     13\u001b[0m     doc \u001b[39m=\u001b[39m pca_model\u001b[39m.\u001b[39mtransform(doc)\n\u001b[1;32m     14\u001b[0m     \u001b[39mreturn\u001b[39;00m doc\n\u001b[0;32m---> 18\u001b[0m X_train, pca_train, y_train, y_vals, topic_list, pca_model \u001b[39m=\u001b[39m create_clusters()\n\u001b[1;32m     20\u001b[0m \u001b[39mfor\u001b[39;00m i, val \u001b[39min\u001b[39;00m \u001b[39menumerate\u001b[39m(y_train\u001b[39m.\u001b[39munique()):\n\u001b[1;32m     21\u001b[0m     y_train \u001b[39m=\u001b[39m y_train\u001b[39m.\u001b[39mapply(\u001b[39mlambda\u001b[39;00m x: i \u001b[39mif\u001b[39;00m x \u001b[39m==\u001b[39m val \u001b[39melse\u001b[39;00m x)\n",
      "Cell \u001b[0;32mIn[19], line 2\u001b[0m, in \u001b[0;36mcreate_clusters\u001b[0;34m()\u001b[0m\n\u001b[1;32m      1\u001b[0m \u001b[39mdef\u001b[39;00m \u001b[39mcreate_clusters\u001b[39m():\n\u001b[0;32m----> 2\u001b[0m     topic_df, model, vec, topic_list \u001b[39m=\u001b[39m pda\u001b[39m.\u001b[39;49mprocess_data()\n\u001b[1;32m      3\u001b[0m     pca \u001b[39m=\u001b[39m PCA(n_components\u001b[39m=\u001b[39m\u001b[39m2\u001b[39m)\n\u001b[1;32m      4\u001b[0m     X_train \u001b[39m=\u001b[39m topic_df\u001b[39m.\u001b[39miloc[:, :\u001b[39m-\u001b[39m\u001b[39m1\u001b[39m]\n",
      "\u001b[0;31mAttributeError\u001b[0m: module 'process_data' has no attribute 'process_data'"
     ]
    }
   ],
   "source": [
    "def transform_user_resume(pca_model, resume):\n",
    "    ''' \n",
    "    take in resume and fit it according to both count vectorizer and PCA model\n",
    "    '''\n",
    "    discription_df, topic_model, vec, topic_list = pda.process_data()\n",
    "    doc = pda.tokenize_stem(resume)\n",
    "    doc = vec.transform(doc)\n",
    "    doc = topic_model.transform(doc)\n",
    "    doc = pd.DataFrame(doc)\n",
    "#     X_train = doc.iloc[:, :-1]\n",
    "#     y_train = doc.iloc[:, -1]\n",
    "#     y_vals = y_train.unique()\n",
    "    doc = pca_model.transform(doc)\n",
    "    return doc\n",
    "    \n",
    "    \n",
    "    \n",
    "X_train, pca_train, y_train, y_vals, topic_list, pca_model = create_clusters()\n",
    "\n",
    "for i, val in enumerate(y_train.unique()):\n",
    "    y_train = y_train.apply(lambda x: i if x == val else x)"
   ]
  }
 ],
 "metadata": {
  "kernelspec": {
   "display_name": "anly521",
   "language": "python",
   "name": "python3"
  },
  "language_info": {
   "codemirror_mode": {
    "name": "ipython",
    "version": 3
   },
   "file_extension": ".py",
   "mimetype": "text/x-python",
   "name": "python",
   "nbconvert_exporter": "python",
   "pygments_lexer": "ipython3",
   "version": "3.10.9"
  },
  "orig_nbformat": 4,
  "vscode": {
   "interpreter": {
    "hash": "69c24466b6747e34a4d1a437a73c5c33b63c0eb880b07204061270fffa4275b6"
   }
  }
 },
 "nbformat": 4,
 "nbformat_minor": 2
}
